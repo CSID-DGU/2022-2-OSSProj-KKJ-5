{
  "cells": [
    {
      "cell_type": "code",
      "execution_count": 2,
      "metadata": {
        "id": "XLKHWDTfXXb8"
      },
      "outputs": [],
      "source": [
        "url = \"https://n.news.naver.com/mnews/article/421/0006511526?sid=105\"\n"
      ]
    },
    {
      "cell_type": "code",
      "execution_count": 3,
      "metadata": {
        "id": "JjESR3rYXYel"
      },
      "outputs": [],
      "source": [
        "from bs4 import BeautifulSoup\n",
        "import requests\n",
        "headers = {'User-Agent':'Mozilla/5.0 (Windows NT 6.3; Win64; x64) AppleWebKit/537.36 (KHTML, like Gecko) Chrome/63.0.3239.132 Safari/537.36'}\n",
        "webpage = requests.get(f\"{url}\",headers=headers)\n",
        "soup = BeautifulSoup(webpage.content,\"html.parser\")\n",
        "category = soup.find('li', attrs = {'class':'Nlist_item _LNB_ITEM is_active'})\n",
        "category=category.get_text().replace(\"\\n\",\"\").replace(\"// flash 오류를 우회하기 위한 함수 추가function _flash_removeCallback() {}\",\"\").replace(\"\\t\",\"\").replace(\".\",\". \")"
      ]
    },
    {
      "cell_type": "code",
      "execution_count": 4,
      "metadata": {
        "colab": {
          "base_uri": "https://localhost:8080/",
          "height": 36
        },
        "id": "qxrN7U5yFPwx",
        "outputId": "de88e407-7ed2-4c41-fdda-2fd8d862924b"
      },
      "outputs": [
        {
          "data": {
            "text/plain": [
              "'IT/과학'"
            ]
          },
          "execution_count": 4,
          "metadata": {},
          "output_type": "execute_result"
        }
      ],
      "source": [
        "category"
      ]
    },
    {
      "cell_type": "code",
      "execution_count": 5,
      "metadata": {
        "id": "MbiCIHZpHppb"
      },
      "outputs": [],
      "source": [
        "Category = {'정치' : '1', '경제' : '2', '사회' : '3', '생활/문화' : '4', '세계' : '5', 'IT/과학' : '6'}"
      ]
    },
    {
      "cell_type": "code",
      "execution_count": 6,
      "metadata": {
        "colab": {
          "base_uri": "https://localhost:8080/",
          "height": 36
        },
        "id": "Ts-mj3-II9YD",
        "outputId": "6b2bd7ae-6b84-4aed-99cc-9a7f2e217683"
      },
      "outputs": [
        {
          "data": {
            "text/plain": [
              "'6'"
            ]
          },
          "execution_count": 6,
          "metadata": {},
          "output_type": "execute_result"
        }
      ],
      "source": [
        "Category.get(category)"
      ]
    }
  ],
  "metadata": {
    "accelerator": "GPU",
    "colab": {
      "provenance": []
    },
    "gpuClass": "standard",
    "kernelspec": {
      "display_name": "test1",
      "language": "python",
      "name": "python3"
    },
    "language_info": {
      "codemirror_mode": {
        "name": "ipython",
        "version": 3
      },
      "file_extension": ".py",
      "mimetype": "text/x-python",
      "name": "python",
      "nbconvert_exporter": "python",
      "pygments_lexer": "ipython3",
      "version": "3.7.15"
    },
    "vscode": {
      "interpreter": {
        "hash": "19f54a0b457690a31096f8faf793b6cb2acda43eb6efb75c851b875a7aef3666"
      }
    }
  },
  "nbformat": 4,
  "nbformat_minor": 0
}

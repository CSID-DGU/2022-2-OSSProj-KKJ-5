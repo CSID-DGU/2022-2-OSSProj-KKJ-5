{
  "nbformat": 4,
  "nbformat_minor": 0,
  "metadata": {
    "colab": {
      "provenance": []
    },
    "kernelspec": {
      "name": "python3",
      "display_name": "Python 3"
    },
    "language_info": {
      "name": "python"
    },
    "accelerator": "GPU",
    "gpuClass": "standard"
  },
  "cells": [
    {
      "cell_type": "code",
      "execution_count": 33,
      "metadata": {
        "id": "c6KtYKJecUJA"
      },
      "outputs": [],
      "source": [
        "import numpy as np\n",
        "import pandas as pd\n",
        "import re\n",
        "import networkx as nx\n",
        "import matplotlib.pyplot as plt\n",
        "from networkx.drawing.nx_agraph import to_agraph \n",
        "from matplotlib import cm \n",
        "import matplotlib as mpl\n",
        "import matplotlib.font_manager as fm\n",
        "import operator"
      ]
    },
    {
      "cell_type": "code",
      "source": [
        "url = \"https://n.news.naver.com/mnews/article/421/0006511526?sid=105\"\n"
      ],
      "metadata": {
        "id": "XLKHWDTfXXb8"
      },
      "execution_count": 34,
      "outputs": []
    },
    {
      "cell_type": "code",
      "source": [
        "from bs4 import BeautifulSoup\n",
        "import requests\n",
        "headers = {'User-Agent':'Mozilla/5.0 (Windows NT 6.3; Win64; x64) AppleWebKit/537.36 (KHTML, like Gecko) Chrome/63.0.3239.132 Safari/537.36'}\n",
        "webpage = requests.get(f\"{url}\",headers=headers)\n",
        "soup = BeautifulSoup(webpage.content,\"html.parser\")\n",
        "category = soup.find('li', attrs = {'class':'Nlist_item _LNB_ITEM is_active'})\n",
        "category=category.get_text().replace(\"\\n\",\"\").replace(\"// flash 오류를 우회하기 위한 함수 추가function _flash_removeCallback() {}\",\"\").replace(\"\\t\",\"\").replace(\".\",\". \")"
      ],
      "metadata": {
        "id": "JjESR3rYXYel"
      },
      "execution_count": 35,
      "outputs": []
    },
    {
      "cell_type": "code",
      "source": [
        "category"
      ],
      "metadata": {
        "id": "qxrN7U5yFPwx",
        "outputId": "de88e407-7ed2-4c41-fdda-2fd8d862924b",
        "colab": {
          "base_uri": "https://localhost:8080/",
          "height": 36
        }
      },
      "execution_count": 36,
      "outputs": [
        {
          "output_type": "execute_result",
          "data": {
            "text/plain": [
              "'IT/과학'"
            ],
            "application/vnd.google.colaboratory.intrinsic+json": {
              "type": "string"
            }
          },
          "metadata": {},
          "execution_count": 36
        }
      ]
    },
    {
      "cell_type": "code",
      "source": [
        "Category = {'정치' : '1', '경제' : '2', '사회' : '3', '생활/문화' : '4', '세계' : '5', 'IT/과학' : '6'}"
      ],
      "metadata": {
        "id": "MbiCIHZpHppb"
      },
      "execution_count": 37,
      "outputs": []
    },
    {
      "cell_type": "code",
      "source": [
        "Category.get(category)"
      ],
      "metadata": {
        "id": "Ts-mj3-II9YD",
        "outputId": "6b2bd7ae-6b84-4aed-99cc-9a7f2e217683",
        "colab": {
          "base_uri": "https://localhost:8080/",
          "height": 36
        }
      },
      "execution_count": 38,
      "outputs": [
        {
          "output_type": "execute_result",
          "data": {
            "text/plain": [
              "'6'"
            ],
            "application/vnd.google.colaboratory.intrinsic+json": {
              "type": "string"
            }
          },
          "metadata": {},
          "execution_count": 38
        }
      ]
    }
  ]
}